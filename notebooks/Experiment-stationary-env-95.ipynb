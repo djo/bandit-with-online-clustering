{
 "cells": [
  {
   "cell_type": "code",
   "execution_count": 1,
   "id": "7e4554f6",
   "metadata": {
    "ExecuteTime": {
     "end_time": "2023-01-27T21:53:03.764356Z",
     "start_time": "2023-01-27T21:53:01.256415Z"
    },
    "scrolled": true
   },
   "outputs": [],
   "source": [
    "import matplotlib.pyplot as plt\n",
    "from sklearn.datasets import make_blobs\n",
    "from sklearn.cluster import KMeans\n",
    "from sklearn.metrics import accuracy_score\n",
    "import numpy as np\n",
    "from sklearn.metrics.cluster import adjusted_rand_score\n",
    "from collections import Counter\n",
    "from sklearn.metrics import pairwise_distances_argmin\n",
    "from sklearn.metrics import pairwise_distances\n",
    "import pandas as pd\n",
    "from typing import List, Tuple\n",
    "from dataclasses import dataclass\n",
    "import scipy\n",
    "from scipy.special import digamma\n",
    "from scipy.special import gamma\n",
    "from collections import defaultdict\n",
    "import pprint\n",
    "import os\n",
    "import pickle"
   ]
  },
  {
   "cell_type": "markdown",
   "id": "25aac54e",
   "metadata": {
    "ExecuteTime": {
     "end_time": "2022-06-30T17:34:59.630175Z",
     "start_time": "2022-06-30T17:34:59.621725Z"
    }
   },
   "source": [
    "# Helpers"
   ]
  },
  {
   "cell_type": "code",
   "execution_count": 2,
   "id": "726f4fa0",
   "metadata": {
    "ExecuteTime": {
     "end_time": "2023-01-27T21:53:03.774327Z",
     "start_time": "2023-01-27T21:53:03.766778Z"
    }
   },
   "outputs": [],
   "source": [
    "def cluster_likelihood(x, j, cluster_centers, m=2):\n",
    "    if m == 1:\n",
    "        return 1.0\n",
    "    \n",
    "    def weight(i):\n",
    "        d_j = max(np.linalg.norm(x - cluster_centers[j]), 1e-12)\n",
    "        d_i = max(np.linalg.norm(x - cluster_centers[i]), 1e-12)\n",
    "        if d_j == d_i and d_j == 0.0:\n",
    "            return 1\n",
    "        return (d_j / d_i)**(2/(m-1))\n",
    "\n",
    "    clusters = range(len(cluster_centers))\n",
    "    w = 1 / (sum(map(lambda c : weight(c), clusters)))\n",
    "    return w\n",
    "\n",
    "def scale_from_01(value, min_value, max_value):\n",
    "    old_min_value = 0.0\n",
    "    old_max_value = 1.0\n",
    "    return ((max_value - min_value)/(old_max_value - old_min_value)) * (value - old_min_value) + min_value\n",
    "\n",
    "# between 0.0 and 1.0\n",
    "def drift(mean, std):\n",
    "    x = mean + np.random.normal(0.0, scale=std)\n",
    "    x_tilda = abs(x)%2\n",
    "    if x_tilda > 1.0:\n",
    "        return 2 - x_tilda\n",
    "    return x_tilda\n",
    "\n",
    "def simulate_drift_in_bounds(min_value, max_value, std, horizon):\n",
    "    assert min_value <= max_value\n",
    "    value = np.random.uniform(low=0.0, high=1.0)\n",
    "    means = np.zeros(horizon, dtype=np.float32)\n",
    "    for i in range(0, horizon):\n",
    "        means[i] = scale_from_01(value, min_value=min_value, max_value=max_value)\n",
    "        value = drift(value, std)\n",
    "    return means\n",
    "\n",
    "pp = pprint.PrettyPrinter(width=100, compact=True)"
   ]
  },
  {
   "cell_type": "markdown",
   "id": "7e8cae7a",
   "metadata": {},
   "source": [
    "# Simulate data points (drifting clusters)"
   ]
  },
  {
   "cell_type": "code",
   "execution_count": 3,
   "id": "6bf6b1f4",
   "metadata": {
    "ExecuteTime": {
     "end_time": "2023-01-27T21:53:03.779463Z",
     "start_time": "2023-01-27T21:53:03.776124Z"
    }
   },
   "outputs": [],
   "source": [
    "HORIZON = 10000\n",
    "NUM_CLUSTERS = 2\n",
    "\n",
    "CLUSTER_CENTERS = np.array([\n",
    "    [0.0, 0.0],\n",
    "    [2.0, 2.0],\n",
    "])\n",
    "\n",
    "assert len(CLUSTER_CENTERS) == NUM_CLUSTERS\n",
    "\n",
    "CLUSTER_STDS = np.array([0.85] * NUM_CLUSTERS, dtype=np.float32)"
   ]
  },
  {
   "cell_type": "code",
   "execution_count": 4,
   "id": "ff58dc83",
   "metadata": {
    "ExecuteTime": {
     "end_time": "2023-01-27T21:53:03.786196Z",
     "start_time": "2023-01-27T21:53:03.782198Z"
    },
    "scrolled": true
   },
   "outputs": [],
   "source": [
    "def simulate_center_drifts(init_centers, horizon):\n",
    "    num_clusters = len(init_centers)\n",
    "    offsets = np.zeros((horizon, num_clusters, 2), dtype=np.float32)\n",
    "    for i in range(num_clusters):\n",
    "        offsets[:, i, 0] = offsets[:, i, 0] + init_centers[i][0]\n",
    "        offsets[:, i, 1] = offsets[:, i, 1] + init_centers[i][1]\n",
    "    return offsets\n",
    "\n",
    "CENTERS_DRIFT = simulate_center_drifts(init_centers=CLUSTER_CENTERS, horizon=HORIZON)"
   ]
  },
  {
   "cell_type": "code",
   "execution_count": 5,
   "id": "5911f746",
   "metadata": {
    "ExecuteTime": {
     "end_time": "2023-01-27T21:53:04.858717Z",
     "start_time": "2023-01-27T21:53:03.788756Z"
    },
    "scrolled": true
   },
   "outputs": [
    {
     "name": "stdout",
     "output_type": "stream",
     "text": [
      "Counter({0: 5005, 1: 4995})\n"
     ]
    }
   ],
   "source": [
    "horizon = HORIZON\n",
    "\n",
    "def simulate_blobs_drift(horizon, centers_drift, cluster_stds):\n",
    "    X = np.zeros(shape=(horizon, 2), dtype=np.float32)\n",
    "    y_true = np.zeros(shape=(horizon,), dtype=np.int32)\n",
    "\n",
    "    for t in range(horizon):\n",
    "        X_, y_true_ = make_blobs(\n",
    "            n_samples=2, n_features=2,\n",
    "            centers=centers_drift[t],\n",
    "            cluster_std=cluster_stds\n",
    "        )\n",
    "        i = np.random.binomial(1, 0.5)\n",
    "        X[t] = X_[i]\n",
    "        y_true[t] = y_true_[i]\n",
    "    \n",
    "    return X, y_true \n",
    "\n",
    "X, y_true = simulate_blobs_drift(\n",
    "    horizon=HORIZON,\n",
    "    centers_drift=CENTERS_DRIFT,\n",
    "    cluster_stds=CLUSTER_STDS\n",
    ")\n",
    "\n",
    "DATA_X = np.copy(X)\n",
    "DATA_y_true = np.copy(y_true)\n",
    "\n",
    "print(Counter(y_true))"
   ]
  },
  {
   "cell_type": "code",
   "execution_count": 6,
   "id": "d50736c7",
   "metadata": {
    "ExecuteTime": {
     "end_time": "2023-01-27T21:53:05.058397Z",
     "start_time": "2023-01-27T21:53:04.860887Z"
    },
    "scrolled": true
   },
   "outputs": [
    {
     "name": "stdout",
     "output_type": "stream",
     "text": [
      "clusters hit: 0.9538\n"
     ]
    }
   ],
   "source": [
    "SEQ_KMEANS_GAMMA = 1.0\n",
    "\n",
    "class SequentialKMeans:\n",
    "    def __init__(self, init_cluster_centers, gamma):\n",
    "        assert 0.0 <= gamma <= 1.0\n",
    "        self.gamma = gamma\n",
    "        self.num_clusters = len(init_cluster_centers)\n",
    "        self.cluster_centers = np.copy(init_cluster_centers)\n",
    "        self.m = np.copy(self.cluster_centers)\n",
    "        self.w = np.ones(self.num_clusters, dtype=float)\n",
    "\n",
    "    def fit(self, x) -> int:\n",
    "        \"\"\"\n",
    "        Fit a new data point x\n",
    "        :param x: data point\n",
    "        :return: cluster the data point assigned to\n",
    "        \"\"\"\n",
    "        distances = np.linalg.norm(x - self.cluster_centers, axis=1)\n",
    "        i = np.argmin(distances)\n",
    "        self.m[i] = self.m[i] * self.gamma + x\n",
    "        self.w[i] = self.w[i] * self.gamma + 1\n",
    "        self.cluster_centers[i] = self.m[i] / self.w[i]\n",
    "        return int(i)\n",
    "\n",
    "kmeans = SequentialKMeans(CLUSTER_CENTERS, SEQ_KMEANS_GAMMA)\n",
    "y = np.full(shape=len(DATA_y_true), fill_value=-1)\n",
    "\n",
    "clusters_count = np.zeros(NUM_CLUSTERS, dtype=np.int32)\n",
    "clusters_hit_count = np.zeros(NUM_CLUSTERS, dtype=np.int32)\n",
    "\n",
    "for i in range(len(DATA_X)):\n",
    "    y[i] = kmeans.fit(DATA_X[i])\n",
    "assumed_clusters_hit = np.sum(DATA_y_true == y) / len(DATA_y_true)\n",
    "print(f\"clusters hit: {assumed_clusters_hit}\")"
   ]
  },
  {
   "cell_type": "markdown",
   "id": "64f23ba7",
   "metadata": {
    "ExecuteTime": {
     "end_time": "2022-12-12T11:43:34.818824Z",
     "start_time": "2022-12-12T11:43:34.815603Z"
    }
   },
   "source": [
    "# Simulate action drift (means)"
   ]
  },
  {
   "cell_type": "code",
   "execution_count": 7,
   "id": "4bc9bb8b",
   "metadata": {
    "ExecuteTime": {
     "end_time": "2023-01-27T21:53:05.062756Z",
     "start_time": "2023-01-27T21:53:05.060320Z"
    }
   },
   "outputs": [],
   "source": [
    "ACTIONS_DRIFT_STD = None\n",
    "NUM_ACTIONS = 10"
   ]
  },
  {
   "cell_type": "code",
   "execution_count": 8,
   "id": "991b30dc",
   "metadata": {
    "ExecuteTime": {
     "end_time": "2023-01-27T21:53:05.074800Z",
     "start_time": "2023-01-27T21:53:05.064496Z"
    }
   },
   "outputs": [],
   "source": [
    "#actions_drift_base_path = None\n",
    "actions_drift_base_path = \"/nfs/notebooks/andrew/2024/experiments/64910\"\n",
    "ACTIONS_DRIFT = np.load(os.path.join(actions_drift_base_path, \"ACTIONS_DRIFT.npy\"))\n",
    "\n",
    "### STATIONARY\n",
    "    \n",
    "# ACTIONS_DRIFT = np.zeros((HORIZON, NUM_CLUSTERS, NUM_ACTIONS), dtype=np.float32)\n",
    "# cluster0_values = np.random.uniform(0.7, 1.0, size=NUM_ACTIONS)\n",
    "# cluster1_values = np.random.uniform(0.0, 0.3, size=NUM_ACTIONS)\n",
    "# assert NUM_CLUSTERS == 2\n",
    "# for i in range(NUM_ACTIONS):\n",
    "#     for t in range(HORIZON):\n",
    "#         ACTIONS_DRIFT[t, 0, i] = cluster0_values[i]\n",
    "#         ACTIONS_DRIFT[t, 1, i] = cluster1_values[i]\n",
    "\n",
    "# idx = list(reversed(np.argsort(cluster0_values)))\n",
    "# np.dstack((np.take(cluster0_values, idx), np.take(cluster1_values, idx)))\n",
    "\n",
    "### NON-STATIONARY\n",
    "\n",
    "# ACTIONS_DRIFT = np.zeros((HORIZON, NUM_CLUSTERS, NUM_ACTIONS), dtype=np.float32)\n",
    "\n",
    "# def reward_drift(low, high):\n",
    "#     return simulate_drift_in_bounds(min_value=low, max_value=high, std=ACTIONS_DRIFT_STD, horizon=HORIZON)\n",
    "\n",
    "# # for j in range(NUM_CLUSTERS):\n",
    "# #     for i in range(NUM_ACTIONS):\n",
    "# #         ACTIONS_DRIFT[:, j, i] = reward_drift(0.0, 1.0)\n",
    "\n",
    "# assert NUM_CLUSTERS == 2\n",
    "# for i in range(NUM_ACTIONS):\n",
    "#     ACTIONS_DRIFT[:, 0, i] = reward_drift(0.0, 0.3)\n",
    "#     ACTIONS_DRIFT[:, 1, i] = reward_drift(0.7, 1.0)"
   ]
  },
  {
   "cell_type": "code",
   "execution_count": 9,
   "id": "9df12864",
   "metadata": {
    "ExecuteTime": {
     "end_time": "2023-01-27T21:53:05.537538Z",
     "start_time": "2023-01-27T21:53:05.076541Z"
    }
   },
   "outputs": [
    {
     "data": {
      "image/png": "[encoded data removed]",
      "text/plain": [
       "<Figure size 640x480 with 1 Axes>"
      ]
     },
     "metadata": {},
     "output_type": "display_data"
    }
   ],
   "source": [
    "take=100000\n",
    "for i in range(NUM_ACTIONS):\n",
    "    plt.plot(range(0, take), ACTIONS_DRIFT[:take, 0, i])"
   ]
  },
  {
   "cell_type": "code",
   "execution_count": 10,
   "id": "6e89c445",
   "metadata": {
    "ExecuteTime": {
     "end_time": "2023-01-27T21:53:05.902995Z",
     "start_time": "2023-01-27T21:53:05.539719Z"
    }
   },
   "outputs": [
    {
     "data": {
      "image/png": "[encoded data removed]",
      "text/plain": [
       "<Figure size 640x480 with 1 Axes>"
      ]
     },
     "metadata": {},
     "output_type": "display_data"
    }
   ],
   "source": [
    "for i in range(NUM_ACTIONS):\n",
    "    plt.plot(range(0, take), ACTIONS_DRIFT[:take, 1, i])"
   ]
  },
  {
   "cell_type": "markdown",
   "id": "34e05840",
   "metadata": {},
   "source": [
    "## Data"
   ]
  },
  {
   "cell_type": "code",
   "execution_count": 11,
   "id": "88c864b5",
   "metadata": {
    "ExecuteTime": {
     "end_time": "2023-01-27T21:53:05.907071Z",
     "start_time": "2023-01-27T21:53:05.904751Z"
    }
   },
   "outputs": [],
   "source": [
    "# for loading from the other experiments\n",
    "# load_base_path = \"/nfs/notebooks/andrew/2024/experiments/227927\"\n",
    "# CENTERS_DRIFT = np.load(os.path.join(load_base_path, \"CENTERS_DRIFT.npy\"))\n",
    "# DATA_X = np.load(os.path.join(load_base_path, \"DATA_X.npy\"))\n",
    "# DATA_y_true = np.load(os.path.join(load_base_path, \"DATA_y_true.npy\"))\n",
    "# ACTIONS_DRIFT = np.load(os.path.join(load_base_path, \"ACTIONS_DRIFT.npy\"))"
   ]
  },
  {
   "cell_type": "markdown",
   "id": "d07f221d",
   "metadata": {},
   "source": [
    "# Models"
   ]
  },
  {
   "cell_type": "code",
   "execution_count": 12,
   "id": "b9b0f9c3",
   "metadata": {
    "ExecuteTime": {
     "end_time": "2023-01-27T21:53:05.925339Z",
     "start_time": "2023-01-27T21:53:05.908886Z"
    },
    "scrolled": true
   },
   "outputs": [],
   "source": [
    "class EpsilonGreedy:\n",
    "    def __init__(self, num_actions: int, horizon: int, epsilon: float):\n",
    "        \"\"\"\n",
    "        Create EpsilonGreed policy playing the empirically best action\n",
    "        with probability (1 - epsilon), otherwise explores uniformly at random.\n",
    "        \"\"\"\n",
    "        if epsilon < 0.0 or epsilon > 1.0:\n",
    "            raise ValueError(f\"Epsilon {epsilon} must be in [0.0, 1.0]\")\n",
    "        self.num_actions = num_actions\n",
    "        self.epsilon = epsilon\n",
    "        self.rewards = np.zeros(horizon, dtype=np.float32)\n",
    "        self.cumulative_rewards = np.zeros(num_actions, dtype=np.float32)\n",
    "        self.selected_actions = np.full(horizon, fill_value=-1, dtype=np.int32)\n",
    "        self.actions_stats = np.zeros(num_actions, dtype=np.int32)\n",
    "\n",
    "    def select(self, t: int) -> int:\n",
    "        if np.random.random() < self.epsilon:\n",
    "            self.selected_actions[t] = np.random.choice(self.num_actions)\n",
    "        else:\n",
    "            self.selected_actions[t], _ = self.empirically_best_action()            \n",
    "        return self.selected_actions[t]\n",
    "\n",
    "    def update(self, t: int, action: int, reward: float, phi: float):    \n",
    "        if action != self.selected_actions[t]:\n",
    "            raise ValueError(\n",
    "                f\"Expected the reward for action {self.selected_actions[t]}, but got for {action}\"\n",
    "            )\n",
    "        self.rewards[t] = reward\n",
    "        self.cumulative_rewards[action] += reward\n",
    "        self.actions_stats[action] += 1\n",
    "        return\n",
    "\n",
    "    def empirically_best_action(self) -> Tuple[int, float]:\n",
    "        if np.count_nonzero(self.cumulative_rewards) == 0:\n",
    "            return np.random.choice(self.num_actions), 0.0\n",
    "        idx = np.where(self.actions_stats != 0)\n",
    "        i = np.argmax(self.cumulative_rewards[idx] / self.actions_stats[idx])\n",
    "        action = idx[0][i]\n",
    "        return action, self.cumulative_rewards[action] / self.actions_stats[action]\n",
    "\n",
    "class UniformRandom:\n",
    "    def __init__(self, num_actions: int, horizon: int):\n",
    "        \"\"\"\n",
    "        Create a policy choosing an action uniformly at random.\n",
    "        \"\"\"\n",
    "        self.num_actions = num_actions\n",
    "        self.horizon = horizon\n",
    "        self.rewards = np.zeros(horizon, dtype=np.float32)\n",
    "        self.selected_actions = np.full(horizon, fill_value=-1, dtype=np.int32)\n",
    "\n",
    "    def select(self, t: int) -> int:\n",
    "        self.selected_actions[t] = np.random.choice(self.num_actions)\n",
    "        return self.selected_actions[t]\n",
    "\n",
    "    def update(self, t: int, action: int, reward: float, phi: float):\n",
    "        if action != self.selected_actions[t]:\n",
    "            raise ValueError(\n",
    "                f\"Expected the reward for action {self.selected_actions[t]}, but got for {action}\"\n",
    "            )\n",
    "        self.selected_actions[t] = action\n",
    "        self.rewards[t] = reward\n",
    "        return\n",
    "\n",
    "class DiscountedBetaThompsonSampling:\n",
    "    def __init__(self, num_actions: int, horizon: int, gamma: float):\n",
    "        \"\"\"\n",
    "        Create a discounted Thompson Sampling policy with Beta distribution as a prior one.\n",
    "        \"\"\"\n",
    "        assert 0.0 <= gamma <= 1.0\n",
    "        self.num_actions = num_actions\n",
    "        self.horizon = horizon\n",
    "        self.gamma = gamma\n",
    "        self.alpha_0 = 1.0\n",
    "        self.beta_0 = 1.0\n",
    "        self.alphas = np.zeros(num_actions, dtype=float)\n",
    "        self.betas = np.zeros(num_actions, dtype=float)\n",
    "        self.rewards = np.zeros(horizon, dtype=np.float32)\n",
    "        self.selected_actions = np.full(horizon, fill_value=-1, dtype=np.int32)\n",
    "\n",
    "    def select(self, t: int) -> int:\n",
    "        samples = np.zeros(self.num_actions, dtype=float)\n",
    "        for i in range(self.num_actions):\n",
    "            alpha = self.alphas[i] + self.alpha_0\n",
    "            beta = self.betas[i] + self.beta_0\n",
    "            samples[i] = np.random.beta(alpha, beta)\n",
    "        self.selected_actions[t] = int(np.argmax(samples))\n",
    "        return self.selected_actions[t]\n",
    "\n",
    "    def update(self, t: int, action: int, reward: float, phi: float):\n",
    "        assert 0.0 <= phi <= 1.0\n",
    "        if action != self.selected_actions[t]:\n",
    "            raise ValueError(\n",
    "                f\"Expected the reward for action {self.selected_actions[t]}, but got for {action}\"\n",
    "            )\n",
    "\n",
    "        self.selected_actions[t] = action\n",
    "        self.rewards[t] = reward\n",
    "\n",
    "# NOTE: NOT PLAYED ACTIONS ARE NOT DISCOUNTED\n",
    "#         for i in range(self.num_actions):\n",
    "#             self.alphas[i] = self.gamma * self.alphas[i]\n",
    "#             self.betas[i] = self.gamma * self.betas[i]\n",
    "#         self.alphas[action] += phi * reward\n",
    "#         self.betas[action] += phi * (1.0 - reward)\n",
    "        self.alphas[action] = self.gamma * self.alphas[action] + phi * reward\n",
    "        self.betas[action] = self.gamma * self.betas[action] + phi * (1.0 - reward)\n",
    "    \n",
    "class BernoulliBandit:\n",
    "    def __init__(self, init_means: np.ndarray, horizon: int):\n",
    "        self.largest_means = np.zeros(horizon, dtype=float)\n",
    "        self.optimal_actions = np.full(horizon, fill_value=-1, dtype=int)\n",
    "        self.means = init_means\n",
    "\n",
    "    def draw(self, t: int, action: int) -> float:\n",
    "        self.optimal_actions[t] = np.argmax(self.means)\n",
    "        self.largest_means[t] = self.means[self.optimal_actions[t]]\n",
    "        p = self.means[action]\n",
    "        return np.random.binomial(n=1, p=p)"
   ]
  },
  {
   "cell_type": "markdown",
   "id": "2e90c4b5",
   "metadata": {
    "ExecuteTime": {
     "end_time": "2022-09-05T13:34:12.078746Z",
     "start_time": "2022-09-05T13:34:12.076437Z"
    }
   },
   "source": [
    "# Experiment"
   ]
  },
  {
   "cell_type": "code",
   "execution_count": 13,
   "id": "67d0b879",
   "metadata": {
    "ExecuteTime": {
     "end_time": "2023-01-28T01:14:24.074195Z",
     "start_time": "2023-01-27T21:53:05.927655Z"
    },
    "scrolled": true
   },
   "outputs": [
    {
     "name": "stdout",
     "output_type": "stream",
     "text": [
      "/nfs/notebooks/andrew/2024/experiments/806484\n",
      "{'ACTIONS_DRIFT_STD': None,\n",
      " 'CLUSTER_CENTERS': array([[0., 0.],\n",
      "       [2., 2.]]),\n",
      " 'CLUSTER_STDS': array([0.85, 0.85], dtype=float32),\n",
      " 'actions_drift_base_path': '/nfs/notebooks/andrew/2024/experiments/64910',\n",
      " 'assumed_clusters_hit': 0.9538,\n",
      " 'horizon': 10000,\n",
      " 'num_actions': 10,\n",
      " 'num_clusters': 2,\n",
      " 'num_experiments': 5000,\n",
      " 'num_policies': 4,\n",
      " 'policies': [{'eps': None, 'gamma': 1.0, 'm': None, 'name': 'DTS'},\n",
      "              {'eps': None, 'gamma': 1.0, 'm': None, 'name': 'DTS'},\n",
      "              {'eps': None, 'gamma': 1.0, 'm': 1.3, 'name': 'DTS'},\n",
      "              {'eps': None, 'gamma': 1.0, 'm': 1.3, 'name': 'DTS'}],\n",
      " 'seq_kmeans_gamma': 1.0}\n",
      "4999\n",
      "clusters count: [5005. 4995.]\n",
      "clusters hit: [0.95204795 0.95555556]\n"
     ]
    },
    {
     "data": {
      "text/html": [
       "<div>\n",
       "<style scoped>\n",
       "    .dataframe tbody tr th:only-of-type {\n",
       "        vertical-align: middle;\n",
       "    }\n",
       "\n",
       "    .dataframe tbody tr th {\n",
       "        vertical-align: top;\n",
       "    }\n",
       "\n",
       "    .dataframe thead th {\n",
       "        text-align: right;\n",
       "    }\n",
       "</style>\n",
       "<table border=\"1\" class=\"dataframe\">\n",
       "  <thead>\n",
       "    <tr style=\"text-align: right;\">\n",
       "      <th></th>\n",
       "      <th>name</th>\n",
       "      <th>gamma</th>\n",
       "      <th>m</th>\n",
       "      <th>eps</th>\n",
       "      <th>regret (mean)</th>\n",
       "      <th>std</th>\n",
       "      <th>min</th>\n",
       "      <th>max</th>\n",
       "      <th>against #0</th>\n",
       "      <th>against #1</th>\n",
       "    </tr>\n",
       "  </thead>\n",
       "  <tbody>\n",
       "    <tr>\n",
       "      <th>0</th>\n",
       "      <td>DTS</td>\n",
       "      <td>1.0</td>\n",
       "      <td>NaN</td>\n",
       "      <td>None</td>\n",
       "      <td>235.862656</td>\n",
       "      <td>45.890327</td>\n",
       "      <td>87.37207</td>\n",
       "      <td>548.37207</td>\n",
       "      <td></td>\n",
       "      <td>-0.13%</td>\n",
       "    </tr>\n",
       "    <tr>\n",
       "      <th>1</th>\n",
       "      <td>DTS</td>\n",
       "      <td>1.0</td>\n",
       "      <td>NaN</td>\n",
       "      <td>None</td>\n",
       "      <td>236.179443</td>\n",
       "      <td>45.795479</td>\n",
       "      <td>90.37207</td>\n",
       "      <td>693.37207</td>\n",
       "      <td>0.13%</td>\n",
       "      <td></td>\n",
       "    </tr>\n",
       "    <tr>\n",
       "      <th>2</th>\n",
       "      <td>DTS</td>\n",
       "      <td>1.0</td>\n",
       "      <td>1.3</td>\n",
       "      <td>None</td>\n",
       "      <td>230.322250</td>\n",
       "      <td>45.190937</td>\n",
       "      <td>105.37207</td>\n",
       "      <td>525.37207</td>\n",
       "      <td>-2.35%</td>\n",
       "      <td>-2.48%</td>\n",
       "    </tr>\n",
       "    <tr>\n",
       "      <th>3</th>\n",
       "      <td>DTS</td>\n",
       "      <td>1.0</td>\n",
       "      <td>1.3</td>\n",
       "      <td>None</td>\n",
       "      <td>231.379654</td>\n",
       "      <td>45.724857</td>\n",
       "      <td>96.37207</td>\n",
       "      <td>557.37207</td>\n",
       "      <td>-1.9%</td>\n",
       "      <td>-2.03%</td>\n",
       "    </tr>\n",
       "  </tbody>\n",
       "</table>\n",
       "</div>"
      ],
      "text/plain": [
       "  name  gamma    m   eps  regret (mean)        std        min        max  \\\n",
       "0  DTS    1.0  NaN  None     235.862656  45.890327   87.37207  548.37207   \n",
       "1  DTS    1.0  NaN  None     236.179443  45.795479   90.37207  693.37207   \n",
       "2  DTS    1.0  1.3  None     230.322250  45.190937  105.37207  525.37207   \n",
       "3  DTS    1.0  1.3  None     231.379654  45.724857   96.37207  557.37207   \n",
       "\n",
       "  against #0 against #1  \n",
       "0                -0.13%  \n",
       "1      0.13%             \n",
       "2     -2.35%     -2.48%  \n",
       "3      -1.9%     -2.03%  "
      ]
     },
     "execution_count": 13,
     "metadata": {},
     "output_type": "execute_result"
    }
   ],
   "source": [
    "base_path = os.path.join(\"/nfs/notebooks/andrew/2024/experiments\", str(np.random.randint(0, 1000000)))\n",
    "os.mkdir(base_path)\n",
    "print(base_path)\n",
    "np.save(os.path.join(base_path, \"ACTIONS_DRIFT.npy\"), ACTIONS_DRIFT)\n",
    "np.save(os.path.join(base_path, \"DATA_X.npy\"), DATA_X)\n",
    "np.save(os.path.join(base_path, \"DATA_y_true.npy\"), DATA_y_true)\n",
    "np.save(os.path.join(base_path, \"CENTERS_DRIFT.npy\"), CENTERS_DRIFT)\n",
    "\n",
    "DBTS = DiscountedBetaThompsonSampling\n",
    "\n",
    "horizon = HORIZON\n",
    "num_experiments = 5000\n",
    "num_actions = NUM_ACTIONS\n",
    "num_clusters = NUM_CLUSTERS\n",
    "\n",
    "X = DATA_X[:horizon]\n",
    "y_true = DATA_y_true[:horizon]\n",
    "\n",
    "seq_kmeans_gamma = SEQ_KMEANS_GAMMA\n",
    "\n",
    "class Policy:    \n",
    "    def __init__(self, name, instances, horizon, gamma, m, eps):\n",
    "        self.name = name\n",
    "        self.instances = instances  # one per cluster\n",
    "        self.gamma = gamma\n",
    "        self.m = m  # when m is None, phi stays 1.0\n",
    "        self.eps = eps  # for epsilon-greedy\n",
    "    def to_dict(self):\n",
    "        return {\"name\": self.name, \"gamma\": self.gamma, \"m\": self.m, \"eps\": self.eps}\n",
    "\n",
    "def build_uniform_random():\n",
    "    instances = [UniformRandom(num_actions, horizon) for i in range(NUM_CLUSTERS)]\n",
    "    return Policy(name = \"UR\", instances = instances, horizon = horizon, gamma=None, m = None, eps = None)\n",
    "        \n",
    "def build_eps_greedy(eps):\n",
    "    instances = [EpsilonGreedy(num_actions, horizon, eps) for i in range(NUM_CLUSTERS)]\n",
    "    return Policy(name = \"EG\", instances = instances, horizon = horizon, gamma=None, m = None, eps = eps)\n",
    "\n",
    "def build_DBTS(gamma, m):\n",
    "    instances = [DBTS(num_actions, horizon, gamma=gamma) for i in range(NUM_CLUSTERS)]\n",
    "    return Policy(name = \"DTS\", instances = instances, horizon = horizon, gamma=gamma, m = m, eps = None)\n",
    "\n",
    "num_baselines = 2  # first policies to compare with\n",
    "def build_policies():\n",
    "    return [\n",
    "        build_DBTS(gamma=1.0, m=None),\n",
    "        build_DBTS(gamma=1.0, m=None),\n",
    "        build_DBTS(gamma=1.0, m=1.3),\n",
    "        build_DBTS(gamma=1.0, m=1.3),\n",
    "    ]\n",
    "num_policies = len(build_policies())\n",
    "\n",
    "settings = {\n",
    "    \"num_experiments\": num_experiments,\n",
    "    \"num_clusters\": num_clusters,\n",
    "    \"num_actions\": num_actions,\n",
    "    \"horizon\": horizon,\n",
    "    \"num_policies\": num_policies,\n",
    "    \"CLUSTER_STDS\": CLUSTER_STDS,\n",
    "    \"CLUSTER_CENTERS\": CLUSTER_CENTERS,\n",
    "    \"assumed_clusters_hit\": assumed_clusters_hit,\n",
    "    \"seq_kmeans_gamma\": seq_kmeans_gamma,\n",
    "    \"ACTIONS_DRIFT_STD\": ACTIONS_DRIFT_STD,\n",
    "    \"policies\": [p.to_dict() for p in build_policies()],\n",
    "    \"actions_drift_base_path\": actions_drift_base_path,\n",
    "}\n",
    "np.save(os.path.join(base_path, \"settings.npy\"), settings)\n",
    "pp.pprint(settings)\n",
    "\n",
    "assert num_actions < 128\n",
    "assert num_clusters < 128\n",
    "selected_actions = np.full((num_experiments, num_policies, num_clusters, horizon), fill_value=-1, dtype=np.int8)\n",
    "total_regrets = np.zeros((num_experiments, num_policies), dtype=np.float32)\n",
    "predicted_clusters = np.full((num_experiments, horizon), fill_value=-1, dtype=np.int8)\n",
    "clusters_count = np.zeros((num_experiments, num_clusters), dtype=np.uint32)\n",
    "clusters_hit_count = np.zeros((num_experiments, num_clusters), dtype=np.uint32)\n",
    "\n",
    "for exp_id in range(num_experiments):    \n",
    "    envs = [BernoulliBandit(init_means=ACTIONS_DRIFT[0, i, :], horizon=horizon) for i in range(NUM_CLUSTERS)]\n",
    "    kmeans = SequentialKMeans(init_cluster_centers=CLUSTER_CENTERS, gamma=seq_kmeans_gamma)\n",
    "    policies = build_policies()\n",
    "    \n",
    "    true_largest_means = np.zeros(horizon, dtype=np.float32)  # should the same across experiments\n",
    "    rewards = np.full((num_policies, horizon), fill_value=-1, dtype=np.float32)\n",
    "    \n",
    "    for t in range(horizon):\n",
    "        for i in range(NUM_CLUSTERS):\n",
    "            envs[i].means = ACTIONS_DRIFT[t, i, :]\n",
    "\n",
    "        x = X[t]\n",
    "\n",
    "        true_cluster = y_true[t]\n",
    "        predicted_cluster = kmeans.fit(x)\n",
    "        predicted_clusters[exp_id, t] = predicted_cluster\n",
    "\n",
    "        clusters_count[exp_id, true_cluster] += 1\n",
    "        if true_cluster == predicted_cluster:\n",
    "            clusters_hit_count[exp_id, true_cluster] += 1\n",
    "\n",
    "        true_largest_means[t] = np.max(envs[true_cluster].means)\n",
    "        \n",
    "        for policy_id, policy in enumerate(policies):\n",
    "            instance = policy.instances[predicted_cluster] # cluster miss possibility\n",
    "\n",
    "            action = instance.select(t)\n",
    "            reward = envs[true_cluster].draw(t=t, action=action)\n",
    "            rewards[policy_id, t] = reward\n",
    "\n",
    "            phi = 1.0\n",
    "            if policy.m:\n",
    "                phi = cluster_likelihood(x=x, j=predicted_cluster, cluster_centers=kmeans.cluster_centers, m=policy.m)\n",
    "            instance.update(t=t, action=action, reward=reward, phi=phi)\n",
    "\n",
    "    exp_path = os.path.join(base_path, str(exp_id)); os.mkdir(exp_path)\n",
    "    np.save(os.path.join(exp_path, \"true_largest_means.npy\"), true_largest_means)\n",
    "    np.save(os.path.join(exp_path, \"rewards.npy\"), rewards)\n",
    "\n",
    "    for policy_id, policy in enumerate(policies):\n",
    "        total_regrets[exp_id][policy_id] = np.sum(true_largest_means) - np.sum(rewards[policy_id, :])        \n",
    "        for cluster_id, instance in enumerate(policy.instances):\n",
    "            selected_actions[exp_id, policy_id, cluster_id, :] = instance.selected_actions\n",
    "\n",
    "    print(f\"{exp_id}\", end='\\r')\n",
    "\n",
    "np.save(os.path.join(base_path, \"selected_actions.npy\"), selected_actions)\n",
    "np.save(os.path.join(base_path, \"total_regrets.npy\"), total_regrets)\n",
    "np.save(os.path.join(base_path, \"predicted_clusters.npy\"), predicted_clusters)\n",
    "np.save(os.path.join(base_path, \"clusters_count.npy\"), clusters_count)\n",
    "np.save(os.path.join(base_path, \"clusters_hit_count.npy\"), clusters_hit_count)\n",
    "print(f\"\\nclusters count: {np.mean(clusters_count, axis=0)}\")\n",
    "print(f\"clusters hit: {np.mean(clusters_hit_count / clusters_count, axis=0)}\")\n",
    "\n",
    "def uplift(base_id: int, policy_id: int):\n",
    "    if base_id == policy_id:\n",
    "        return \"\"\n",
    "    base_val = np.mean(total_regrets[:, base_id])\n",
    "    policy_val = np.mean(total_regrets[:, policy_id])\n",
    "    perc = ((policy_val - base_val) / base_val) * 100\n",
    "    return f\"{round(perc, 2)}%\"\n",
    "\n",
    "output = defaultdict(list)\n",
    "for i in range(len(settings[\"policies\"])):\n",
    "    output[\"name\"].append(settings[\"policies\"][i][\"name\"])\n",
    "    output[\"gamma\"].append(settings[\"policies\"][i][\"gamma\"])\n",
    "    output[\"m\"].append(settings[\"policies\"][i][\"m\"])\n",
    "    output[\"eps\"].append(settings[\"policies\"][i][\"eps\"])\n",
    "    output[\"regret (mean)\"].append(np.mean(total_regrets[:, i]))\n",
    "    output[\"std\"].append(np.std(total_regrets[:, i]))\n",
    "    output[\"min\"].append(np.min(total_regrets[:, i]))\n",
    "    output[\"max\"].append(np.max(total_regrets[:, i]))\n",
    "    for j in range(num_baselines):\n",
    "        output[f\"against #{j}\"].append(uplift(base_id=j, policy_id=i))\n",
    "\n",
    "df = pd.DataFrame(data=output)\n",
    "df.to_csv(os.path.join(base_path, \"table.csv\"), encoding='utf-8', index=False)\n",
    "df"
   ]
  },
  {
   "cell_type": "markdown",
   "id": "398ac11e",
   "metadata": {
    "ExecuteTime": {
     "end_time": "2023-01-05T22:58:43.904796Z",
     "start_time": "2023-01-05T22:58:43.902450Z"
    }
   },
   "source": [
    "## New summary"
   ]
  },
  {
   "cell_type": "code",
   "execution_count": 14,
   "id": "c7406ec6",
   "metadata": {
    "ExecuteTime": {
     "end_time": "2023-01-28T01:14:24.089338Z",
     "start_time": "2023-01-28T01:14:24.078795Z"
    }
   },
   "outputs": [],
   "source": [
    "def summary(experiment_ids, horizon_start = 0, horizon_stop = horizon, with_true_classif = True, with_false_classif = True):\n",
    "    y_true = np.load(os.path.join(base_path, \"DATA_y_true.npy\"))[horizon_start:horizon_stop]\n",
    "    # we assume that predicted clusters are the same across experiments \n",
    "    predicted_clusters = np.load(os.path.join(base_path, \"predicted_clusters.npy\"))\n",
    "    assert np.size(predicted_clusters[0]) == np.sum(predicted_clusters[0] == predicted_clusters[np.random.choice(experiment_ids)])\n",
    "    predicted_clusters = predicted_clusters[0][horizon_start:horizon_stop]\n",
    "\n",
    "    if with_true_classif and with_false_classif:\n",
    "        step_ids = list(range(horizon_start, horizon_stop))\n",
    "    elif with_true_classif:\n",
    "        step_ids = np.flatnonzero(y_true == predicted_clusters)\n",
    "    elif with_false_classif:\n",
    "        step_ids = np.flatnonzero(y_true != predicted_clusters)\n",
    "    else:\n",
    "        raise ValueError(\"both flags False\")\n",
    "    \n",
    "    regrets = np.zeros((len(experiment_ids), num_policies), dtype=np.float32)\n",
    "    for i, exp_id in enumerate(experiment_ids):\n",
    "        exp_path = os.path.join(base_path, str(exp_id))\n",
    "        true_largest_means = np.load(os.path.join(exp_path, \"true_largest_means.npy\"))\n",
    "        rewards = np.load(os.path.join(exp_path, \"rewards.npy\"))\n",
    "        for policy_id in range(num_policies):\n",
    "            best_means = np.sum(true_largest_means.take(step_ids))\n",
    "            policy_rewards = np.sum(rewards[policy_id].take(step_ids))\n",
    "            regrets[i][policy_id] = best_means - policy_rewards\n",
    "        print(f\"{i}\", end='\\r')\n",
    "\n",
    "    def uplift(base_id: int, policy_id: int):\n",
    "        if base_id == policy_id:\n",
    "            return \"\"\n",
    "        base_val = np.mean(regrets[:, base_id])\n",
    "        policy_val = np.mean(regrets[:, policy_id])\n",
    "        perc = ((policy_val - base_val) / base_val) * 100\n",
    "        return f\"{round(perc, 2)}%\"\n",
    "\n",
    "    output = defaultdict(list)\n",
    "    for i in range(len(settings[\"policies\"])):\n",
    "        output[\"name\"].append(settings[\"policies\"][i][\"name\"])\n",
    "        output[\"gamma\"].append(settings[\"policies\"][i][\"gamma\"])\n",
    "        output[\"m\"].append(settings[\"policies\"][i][\"m\"])\n",
    "        output[\"eps\"].append(settings[\"policies\"][i][\"eps\"])\n",
    "        output[\"regret (mean)\"].append(np.mean(regrets[:, i]))\n",
    "        output[\"std\"].append(np.std(regrets[:, i]))\n",
    "        output[\"min\"].append(np.min(regrets[:, i]))\n",
    "        output[\"max\"].append(np.max(regrets[:, i]))\n",
    "        for j in range(num_baselines):\n",
    "            output[f\"against #{j}\"].append(uplift(base_id=j, policy_id=i))\n",
    "\n",
    "    return pd.DataFrame(data=output)"
   ]
  },
  {
   "cell_type": "code",
   "execution_count": 15,
   "id": "606701ac",
   "metadata": {
    "ExecuteTime": {
     "end_time": "2023-01-28T01:15:34.759888Z",
     "start_time": "2023-01-28T01:14:24.091208Z"
    }
   },
   "outputs": [
    {
     "name": "stdout",
     "output_type": "stream",
     "text": [
      "4999\r"
     ]
    },
    {
     "data": {
      "text/html": [
       "<div>\n",
       "<style scoped>\n",
       "    .dataframe tbody tr th:only-of-type {\n",
       "        vertical-align: middle;\n",
       "    }\n",
       "\n",
       "    .dataframe tbody tr th {\n",
       "        vertical-align: top;\n",
       "    }\n",
       "\n",
       "    .dataframe thead th {\n",
       "        text-align: right;\n",
       "    }\n",
       "</style>\n",
       "<table border=\"1\" class=\"dataframe\">\n",
       "  <thead>\n",
       "    <tr style=\"text-align: right;\">\n",
       "      <th></th>\n",
       "      <th>name</th>\n",
       "      <th>gamma</th>\n",
       "      <th>m</th>\n",
       "      <th>eps</th>\n",
       "      <th>regret (mean)</th>\n",
       "      <th>std</th>\n",
       "      <th>min</th>\n",
       "      <th>max</th>\n",
       "      <th>against #0</th>\n",
       "      <th>against #1</th>\n",
       "    </tr>\n",
       "  </thead>\n",
       "  <tbody>\n",
       "    <tr>\n",
       "      <th>0</th>\n",
       "      <td>DTS</td>\n",
       "      <td>1.0</td>\n",
       "      <td>NaN</td>\n",
       "      <td>None</td>\n",
       "      <td>235.862656</td>\n",
       "      <td>45.890327</td>\n",
       "      <td>87.37207</td>\n",
       "      <td>548.37207</td>\n",
       "      <td></td>\n",
       "      <td>-0.13%</td>\n",
       "    </tr>\n",
       "    <tr>\n",
       "      <th>1</th>\n",
       "      <td>DTS</td>\n",
       "      <td>1.0</td>\n",
       "      <td>NaN</td>\n",
       "      <td>None</td>\n",
       "      <td>236.179443</td>\n",
       "      <td>45.795479</td>\n",
       "      <td>90.37207</td>\n",
       "      <td>693.37207</td>\n",
       "      <td>0.13%</td>\n",
       "      <td></td>\n",
       "    </tr>\n",
       "    <tr>\n",
       "      <th>2</th>\n",
       "      <td>DTS</td>\n",
       "      <td>1.0</td>\n",
       "      <td>1.3</td>\n",
       "      <td>None</td>\n",
       "      <td>230.322250</td>\n",
       "      <td>45.190937</td>\n",
       "      <td>105.37207</td>\n",
       "      <td>525.37207</td>\n",
       "      <td>-2.35%</td>\n",
       "      <td>-2.48%</td>\n",
       "    </tr>\n",
       "    <tr>\n",
       "      <th>3</th>\n",
       "      <td>DTS</td>\n",
       "      <td>1.0</td>\n",
       "      <td>1.3</td>\n",
       "      <td>None</td>\n",
       "      <td>231.379654</td>\n",
       "      <td>45.724857</td>\n",
       "      <td>96.37207</td>\n",
       "      <td>557.37207</td>\n",
       "      <td>-1.9%</td>\n",
       "      <td>-2.03%</td>\n",
       "    </tr>\n",
       "  </tbody>\n",
       "</table>\n",
       "</div>"
      ],
      "text/plain": [
       "  name  gamma    m   eps  regret (mean)        std        min        max  \\\n",
       "0  DTS    1.0  NaN  None     235.862656  45.890327   87.37207  548.37207   \n",
       "1  DTS    1.0  NaN  None     236.179443  45.795479   90.37207  693.37207   \n",
       "2  DTS    1.0  1.3  None     230.322250  45.190937  105.37207  525.37207   \n",
       "3  DTS    1.0  1.3  None     231.379654  45.724857   96.37207  557.37207   \n",
       "\n",
       "  against #0 against #1  \n",
       "0                -0.13%  \n",
       "1      0.13%             \n",
       "2     -2.35%     -2.48%  \n",
       "3      -1.9%     -2.03%  "
      ]
     },
     "execution_count": 15,
     "metadata": {},
     "output_type": "execute_result"
    }
   ],
   "source": [
    "summary(experiment_ids=range(0, num_experiments), horizon_start = 0, horizon_stop = horizon, with_true_classif = True, with_false_classif = True)"
   ]
  },
  {
   "cell_type": "code",
   "execution_count": 16,
   "id": "69da91bd",
   "metadata": {
    "ExecuteTime": {
     "end_time": "2023-01-28T01:16:11.327003Z",
     "start_time": "2023-01-28T01:15:34.762361Z"
    }
   },
   "outputs": [
    {
     "name": "stdout",
     "output_type": "stream",
     "text": [
      "4999\r"
     ]
    },
    {
     "data": {
      "text/html": [
       "<div>\n",
       "<style scoped>\n",
       "    .dataframe tbody tr th:only-of-type {\n",
       "        vertical-align: middle;\n",
       "    }\n",
       "\n",
       "    .dataframe tbody tr th {\n",
       "        vertical-align: top;\n",
       "    }\n",
       "\n",
       "    .dataframe thead th {\n",
       "        text-align: right;\n",
       "    }\n",
       "</style>\n",
       "<table border=\"1\" class=\"dataframe\">\n",
       "  <thead>\n",
       "    <tr style=\"text-align: right;\">\n",
       "      <th></th>\n",
       "      <th>name</th>\n",
       "      <th>gamma</th>\n",
       "      <th>m</th>\n",
       "      <th>eps</th>\n",
       "      <th>regret (mean)</th>\n",
       "      <th>std</th>\n",
       "      <th>min</th>\n",
       "      <th>max</th>\n",
       "      <th>against #0</th>\n",
       "      <th>against #1</th>\n",
       "    </tr>\n",
       "  </thead>\n",
       "  <tbody>\n",
       "    <tr>\n",
       "      <th>0</th>\n",
       "      <td>DTS</td>\n",
       "      <td>1.0</td>\n",
       "      <td>NaN</td>\n",
       "      <td>None</td>\n",
       "      <td>146.083328</td>\n",
       "      <td>45.949501</td>\n",
       "      <td>12.544922</td>\n",
       "      <td>471.544922</td>\n",
       "      <td></td>\n",
       "      <td>-0.39%</td>\n",
       "    </tr>\n",
       "    <tr>\n",
       "      <th>1</th>\n",
       "      <td>DTS</td>\n",
       "      <td>1.0</td>\n",
       "      <td>NaN</td>\n",
       "      <td>None</td>\n",
       "      <td>146.655319</td>\n",
       "      <td>46.002003</td>\n",
       "      <td>3.544922</td>\n",
       "      <td>603.544922</td>\n",
       "      <td>0.39%</td>\n",
       "      <td></td>\n",
       "    </tr>\n",
       "    <tr>\n",
       "      <th>2</th>\n",
       "      <td>DTS</td>\n",
       "      <td>1.0</td>\n",
       "      <td>1.3</td>\n",
       "      <td>None</td>\n",
       "      <td>140.588531</td>\n",
       "      <td>45.561695</td>\n",
       "      <td>9.544922</td>\n",
       "      <td>441.544922</td>\n",
       "      <td>-3.76%</td>\n",
       "      <td>-4.14%</td>\n",
       "    </tr>\n",
       "    <tr>\n",
       "      <th>3</th>\n",
       "      <td>DTS</td>\n",
       "      <td>1.0</td>\n",
       "      <td>1.3</td>\n",
       "      <td>None</td>\n",
       "      <td>141.832123</td>\n",
       "      <td>45.944202</td>\n",
       "      <td>9.544922</td>\n",
       "      <td>485.544922</td>\n",
       "      <td>-2.91%</td>\n",
       "      <td>-3.29%</td>\n",
       "    </tr>\n",
       "  </tbody>\n",
       "</table>\n",
       "</div>"
      ],
      "text/plain": [
       "  name  gamma    m   eps  regret (mean)        std        min         max  \\\n",
       "0  DTS    1.0  NaN  None     146.083328  45.949501  12.544922  471.544922   \n",
       "1  DTS    1.0  NaN  None     146.655319  46.002003   3.544922  603.544922   \n",
       "2  DTS    1.0  1.3  None     140.588531  45.561695   9.544922  441.544922   \n",
       "3  DTS    1.0  1.3  None     141.832123  45.944202   9.544922  485.544922   \n",
       "\n",
       "  against #0 against #1  \n",
       "0                -0.39%  \n",
       "1      0.39%             \n",
       "2     -3.76%     -4.14%  \n",
       "3     -2.91%     -3.29%  "
      ]
     },
     "execution_count": 16,
     "metadata": {},
     "output_type": "execute_result"
    }
   ],
   "source": [
    "summary(experiment_ids=range(0, num_experiments), horizon_start = 0, horizon_stop = horizon, with_true_classif = True, with_false_classif = False)"
   ]
  },
  {
   "cell_type": "code",
   "execution_count": 17,
   "id": "d881663c",
   "metadata": {
    "ExecuteTime": {
     "end_time": "2023-01-28T01:16:49.709366Z",
     "start_time": "2023-01-28T01:16:11.329395Z"
    }
   },
   "outputs": [
    {
     "name": "stdout",
     "output_type": "stream",
     "text": [
      "4999\r"
     ]
    },
    {
     "data": {
      "text/html": [
       "<div>\n",
       "<style scoped>\n",
       "    .dataframe tbody tr th:only-of-type {\n",
       "        vertical-align: middle;\n",
       "    }\n",
       "\n",
       "    .dataframe tbody tr th {\n",
       "        vertical-align: top;\n",
       "    }\n",
       "\n",
       "    .dataframe thead th {\n",
       "        text-align: right;\n",
       "    }\n",
       "</style>\n",
       "<table border=\"1\" class=\"dataframe\">\n",
       "  <thead>\n",
       "    <tr style=\"text-align: right;\">\n",
       "      <th></th>\n",
       "      <th>name</th>\n",
       "      <th>gamma</th>\n",
       "      <th>m</th>\n",
       "      <th>eps</th>\n",
       "      <th>regret (mean)</th>\n",
       "      <th>std</th>\n",
       "      <th>min</th>\n",
       "      <th>max</th>\n",
       "      <th>against #0</th>\n",
       "      <th>against #1</th>\n",
       "    </tr>\n",
       "  </thead>\n",
       "  <tbody>\n",
       "    <tr>\n",
       "      <th>0</th>\n",
       "      <td>DTS</td>\n",
       "      <td>1.0</td>\n",
       "      <td>NaN</td>\n",
       "      <td>None</td>\n",
       "      <td>89.779289</td>\n",
       "      <td>8.459759</td>\n",
       "      <td>57.827087</td>\n",
       "      <td>118.827087</td>\n",
       "      <td></td>\n",
       "      <td>0.29%</td>\n",
       "    </tr>\n",
       "    <tr>\n",
       "      <th>1</th>\n",
       "      <td>DTS</td>\n",
       "      <td>1.0</td>\n",
       "      <td>NaN</td>\n",
       "      <td>None</td>\n",
       "      <td>89.524086</td>\n",
       "      <td>8.399666</td>\n",
       "      <td>53.827087</td>\n",
       "      <td>123.827087</td>\n",
       "      <td>-0.28%</td>\n",
       "      <td></td>\n",
       "    </tr>\n",
       "    <tr>\n",
       "      <th>2</th>\n",
       "      <td>DTS</td>\n",
       "      <td>1.0</td>\n",
       "      <td>1.3</td>\n",
       "      <td>None</td>\n",
       "      <td>89.733688</td>\n",
       "      <td>8.463113</td>\n",
       "      <td>53.827087</td>\n",
       "      <td>120.827087</td>\n",
       "      <td>-0.05%</td>\n",
       "      <td>0.23%</td>\n",
       "    </tr>\n",
       "    <tr>\n",
       "      <th>3</th>\n",
       "      <td>DTS</td>\n",
       "      <td>1.0</td>\n",
       "      <td>1.3</td>\n",
       "      <td>None</td>\n",
       "      <td>89.547485</td>\n",
       "      <td>8.505493</td>\n",
       "      <td>60.827087</td>\n",
       "      <td>123.827087</td>\n",
       "      <td>-0.26%</td>\n",
       "      <td>0.03%</td>\n",
       "    </tr>\n",
       "  </tbody>\n",
       "</table>\n",
       "</div>"
      ],
      "text/plain": [
       "  name  gamma    m   eps  regret (mean)       std        min         max  \\\n",
       "0  DTS    1.0  NaN  None      89.779289  8.459759  57.827087  118.827087   \n",
       "1  DTS    1.0  NaN  None      89.524086  8.399666  53.827087  123.827087   \n",
       "2  DTS    1.0  1.3  None      89.733688  8.463113  53.827087  120.827087   \n",
       "3  DTS    1.0  1.3  None      89.547485  8.505493  60.827087  123.827087   \n",
       "\n",
       "  against #0 against #1  \n",
       "0                 0.29%  \n",
       "1     -0.28%             \n",
       "2     -0.05%      0.23%  \n",
       "3     -0.26%      0.03%  "
      ]
     },
     "execution_count": 17,
     "metadata": {},
     "output_type": "execute_result"
    }
   ],
   "source": [
    "summary(experiment_ids=range(0, num_experiments), horizon_start = 0, horizon_stop = horizon, with_true_classif = False, with_false_classif = True)"
   ]
  },
  {
   "cell_type": "code",
   "execution_count": 18,
   "id": "a7da6929",
   "metadata": {
    "ExecuteTime": {
     "end_time": "2023-01-28T01:16:49.722515Z",
     "start_time": "2023-01-28T01:16:49.711766Z"
    }
   },
   "outputs": [],
   "source": [
    "def draw_acc_regret(experiment_ids, horizon, policy_ids, with_true_classif = True, with_false_classif = True):\n",
    "    y_true = np.load(os.path.join(base_path, \"DATA_y_true.npy\"))[:horizon]\n",
    "    # we assume that predicted clusters are the same across experiments \n",
    "    predicted_clusters = np.load(os.path.join(base_path, \"predicted_clusters.npy\"))\n",
    "    assert np.size(predicted_clusters[0]) == np.sum(predicted_clusters[0] == predicted_clusters[np.random.choice(experiment_ids)])\n",
    "    predicted_clusters = predicted_clusters[0][:horizon]\n",
    "\n",
    "    if with_true_classif and with_false_classif:\n",
    "        step_ids = list(range(0, horizon))\n",
    "    elif with_true_classif:\n",
    "        step_ids = np.flatnonzero(y_true == predicted_clusters)\n",
    "    elif with_fase_classif:\n",
    "        step_ids = np.flatnonzero(y_true != predicted_clusters)\n",
    "    else:\n",
    "        raise ValueError(\"both flags False\")\n",
    "\n",
    "    regrets = np.zeros((len(policy_ids), len(experiment_ids), len(step_ids)), dtype=np.float32)\n",
    "        \n",
    "    for i, exp_id in enumerate(experiment_ids):\n",
    "        exp_path = os.path.join(base_path, str(exp_id))        \n",
    "        true_largest_means = np.load(os.path.join(exp_path, \"true_largest_means.npy\"))\n",
    "        rewards = np.load(os.path.join(exp_path, \"rewards.npy\"))\n",
    "\n",
    "        for j, policy_id in enumerate(policy_ids):\n",
    "            regrets[j, i] = true_largest_means.take(step_ids) - rewards[policy_id].take(step_ids)\n",
    "            for t in range(1, len(step_ids)):\n",
    "                regrets[j, i][t] += regrets[j, i][t-1]\n",
    "        print(f\"{i}\", end='\\r')\n",
    "\n",
    "    for j, policy_id in enumerate(policy_ids):\n",
    "        _regrets = np.mean(regrets[j], axis=0)\n",
    "        plt.plot(range(0, len(step_ids)), _regrets, label=f\"{policy_id}\")\n",
    "    plt.legend()\n",
    "    plt.show()"
   ]
  },
  {
   "cell_type": "code",
   "execution_count": 19,
   "id": "4af955af",
   "metadata": {
    "ExecuteTime": {
     "end_time": "2023-01-28T01:20:16.084204Z",
     "start_time": "2023-01-28T01:16:49.724391Z"
    }
   },
   "outputs": [
    {
     "name": "stdout",
     "output_type": "stream",
     "text": [
      "4999\r"
     ]
    },
    {
     "data": {
      "image/png": "[encoded data removed]",
      "text/plain": [
       "<Figure size 640x480 with 1 Axes>"
      ]
     },
     "metadata": {},
     "output_type": "display_data"
    }
   ],
   "source": [
    "draw_acc_regret(experiment_ids=range(0, num_experiments), horizon=horizon, policy_ids=range(num_policies))"
   ]
  },
  {
   "cell_type": "code",
   "execution_count": 20,
   "id": "eae87ad4",
   "metadata": {
    "ExecuteTime": {
     "end_time": "2023-01-28T01:23:12.617657Z",
     "start_time": "2023-01-28T01:20:16.086549Z"
    }
   },
   "outputs": [
    {
     "name": "stdout",
     "output_type": "stream",
     "text": [
      "4999\r"
     ]
    },
    {
     "data": {
      "image/png": "[encoded data removed]",
      "text/plain": [
       "<Figure size 640x480 with 1 Axes>"
      ]
     },
     "metadata": {},
     "output_type": "display_data"
    }
   ],
   "source": [
    "draw_acc_regret(experiment_ids=range(0, num_experiments), horizon=horizon, policy_ids=range(num_policies), with_true_classif = True, with_false_classif = False)"
   ]
  },
  {
   "cell_type": "code",
   "execution_count": null,
   "id": "87d9561a",
   "metadata": {},
   "outputs": [],
   "source": []
  },
  {
   "cell_type": "code",
   "execution_count": null,
   "id": "fd566d12",
   "metadata": {},
   "outputs": [],
   "source": []
  },
  {
   "cell_type": "code",
   "execution_count": null,
   "id": "b71fd4bb",
   "metadata": {},
   "outputs": [],
   "source": []
  }
 ],
 "metadata": {
  "hide_input": false,
  "kernelspec": {
   "display_name": "Python 3 (ipykernel)",
   "language": "python",
   "name": "python3"
  },
  "language_info": {
   "codemirror_mode": {
    "name": "ipython",
    "version": 3
   },
   "file_extension": ".py",
   "mimetype": "text/x-python",
   "name": "python",
   "nbconvert_exporter": "python",
   "pygments_lexer": "ipython3",
   "version": "3.8.15"
  }
 },
 "nbformat": 4,
 "nbformat_minor": 5
}
